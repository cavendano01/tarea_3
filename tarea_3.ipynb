{
 "metadata": {
  "language_info": {
   "codemirror_mode": {
    "name": "ipython",
    "version": 3
   },
   "file_extension": ".py",
   "mimetype": "text/x-python",
   "name": "python",
   "nbconvert_exporter": "python",
   "pygments_lexer": "ipython3",
   "version": "3.8.5-final"
  },
  "orig_nbformat": 2,
  "kernelspec": {
   "name": "python3",
   "display_name": "Python 3.8.5 64-bit (conda)",
   "metadata": {
    "interpreter": {
     "hash": "ecf5722fdaf1897a315d257d89d94520bfcaa453217d5becf09b39e73618b0de"
    }
   }
  }
 },
 "nbformat": 4,
 "nbformat_minor": 2,
 "cells": [
  {
   "source": [
    "## Funciones en Python\n",
    "Las funciones en Python son secciones de código que podemos utilizar de manera repetitiva y que son autocontenidos. En cierta forma todo lo que esta dentro de una función son líneas de código diseñadas para cumplir una función específica.\n"
   ],
   "cell_type": "markdown",
   "metadata": {}
  },
  {
   "cell_type": "code",
   "execution_count": 31,
   "metadata": {},
   "outputs": [],
   "source": [
    "def correo(direccion, mensaje=\"encantado de saludarte\"):\n",
    "    print(\"Hola {}, {}\".format(direccion, mensaje))"
   ]
  },
  {
   "source": [
    "## Parametros Posisionales y parametros nombrados\n",
    "Por defecto los valores de los argumentos se asignan a los parámetros en el mismo orden en el que los pasas al llamar a la función. Pero podemos enviar valores de manera diferente si al momento de llamar la función definimos el nombre del parámetro lo que significa que estamos nombrando el parametro y diciendole al interprete cómo deseamos que sea tratado.\n",
    "\n",
    "Consideremos tres casos en dónde llamamos la función de arriba, Al nombrar los parametros, cada línea tendrá el mismo resultado.\n"
   ],
   "cell_type": "markdown",
   "metadata": {}
  },
  {
   "source": [
    "correo(mensaje=\"¿cómo estás?\", direccion=\"carlos@avendano.io\")\n",
    "\n",
    "correo(direccion=\"carlos@avendano.io\", mensaje=\"¿cómo estás?\")\n",
    "\n",
    "correo(\"carlos@avendano.io\", mensaje=\"¿cómo estás?\")\n"
   ],
   "cell_type": "code",
   "metadata": {},
   "execution_count": 32,
   "outputs": [
    {
     "output_type": "stream",
     "name": "stdout",
     "text": [
      "Hola carlos@avendano.io, ¿cómo estás?\nHola carlos@avendano.io, ¿cómo estás?\nHola carlos@avendano.io, ¿cómo estás?\n"
     ]
    }
   ]
  },
  {
   "source": [
    "## retorno de multiples valores\n",
    "Las funciones para comunicar un resultado o comunicarse con otras funciones pueden devolver valores utilizando la instrucción de return, este return puede ser un solo valor como un integro o un string o pueden ser un retorno multiple. Un retorno multiple es dónde el resultado es grupo de varios valores cáda uno con su  propio tipo.\n",
    "Hay que mantener en cuenta que un solo return de un diccionario o una tupla no constituye un retorno multiple pues todo lo que regresa es un solo objeto."
   ],
   "cell_type": "markdown",
   "metadata": {}
  },
  {
   "cell_type": "code",
   "execution_count": 33,
   "metadata": {},
   "outputs": [
    {
     "output_type": "execute_result",
     "data": {
      "text/plain": [
       "('Carlos', 20, 'Lbs', [1, 2, 3])"
      ]
     },
     "metadata": {},
     "execution_count": 33
    }
   ],
   "source": [
    "def mutliple_return():\n",
    "    return \"Carlos\", 20, \"Lbs\",  [1,2,3]\n",
    "\n",
    "mutliple_return()"
   ]
  },
  {
   "source": [
    "## funciones como objetos y como parametros de otras funciones\n",
    "En python podemos definir funciones como asistentes de otras funciones, por ejemplo: Necesitamos pasar texto a mayusculas en más de una función en nuestro código. Podemos crear una función que retorne Upper Case y llamarla como argumento de otras funciones. También como argumentos de una línea de código"
   ],
   "cell_type": "markdown",
   "metadata": {}
  },
  {
   "cell_type": "code",
   "execution_count": 34,
   "metadata": {},
   "outputs": [
    {
     "output_type": "stream",
     "name": "stdout",
     "text": [
      "HELLO\n"
     ]
    }
   ],
   "source": [
    "def shout(text):  \n",
    "    return text.upper()  \n",
    "    \n",
    "print(shout('Hello'))  "
   ]
  },
  {
   "source": [
    "## funciones anonimas o lambda\n",
    "Una función lambda es una función anónima, es decir una función sin un nombre definido. Esta función puede tomar múltiples argumentos pero solo puede tener una expresión.  Podemos hacerla tomar dos argumentos y regresar una operación especifica."
   ],
   "cell_type": "markdown",
   "metadata": {}
  },
  {
   "cell_type": "code",
   "execution_count": 35,
   "metadata": {},
   "outputs": [
    {
     "output_type": "stream",
     "name": "stdout",
     "text": [
      "15\n"
     ]
    }
   ],
   "source": [
    "x = lambda a : a + 10\n",
    "print(x(5))"
   ]
  },
  {
   "source": [
    "n = lambda x, y: x + y\n",
    "print(n(5,2))"
   ],
   "cell_type": "code",
   "metadata": {},
   "execution_count": 40,
   "outputs": [
    {
     "output_type": "stream",
     "name": "stdout",
     "text": [
      "7\n"
     ]
    }
   ]
  },
  {
   "source": [],
   "cell_type": "markdown",
   "metadata": {}
  }
 ]
}